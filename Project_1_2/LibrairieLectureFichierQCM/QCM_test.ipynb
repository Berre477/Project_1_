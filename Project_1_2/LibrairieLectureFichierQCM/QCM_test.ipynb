{
 "cells": [
  {
   "cell_type": "code",
   "id": "initial_id",
   "metadata": {
    "collapsed": true,
    "ExecuteTime": {
     "end_time": "2025-10-11T14:27:02.116473Z",
     "start_time": "2025-10-11T14:27:02.110274Z"
    }
   },
   "source": [
    "import qcm\n",
    "filename = \"QCM.txt\"\n",
    "filename_2=\"QCM2.txt\"\n",
    "questions_1 = qcm.build_questionnaire(filename)\n",
    "questions_2=qcm.build_questionnaire(filename_2)\n",
    "import pandas as pd\n",
    "#Put the questions together\n",
    "full_question=[]\n",
    "for x in questions_1:\n",
    "    full_question.append(x)\n",
    "for y in questions_2:\n",
    "    full_question.append(y)\n",
    "\n",
    "def get_question(lst:list,index):\n",
    "    return lst[index]\n"
   ],
   "outputs": [],
   "execution_count": 297
  },
  {
   "metadata": {
    "ExecuteTime": {
     "end_time": "2025-10-11T14:27:02.131402Z",
     "start_time": "2025-10-11T14:27:02.128036Z"
    }
   },
   "cell_type": "code",
   "source": "full_question",
   "id": "521f91b663b63616",
   "outputs": [
    {
     "data": {
      "text/plain": [
       "[['Quelle est la couleur du cheval blanc de Napoléon ?',\n",
       "  [['Blanc', True, ''], ['Bleu', False, ''], ['Violet', False, '']]],\n",
       " ['Combien de jours dans un mois ?',\n",
       "  [['28', True, ''],\n",
       "   ['29', True, ''],\n",
       "   ['30', True, ''],\n",
       "   ['31', True, ''],\n",
       "   ['25', False, '']]],\n",
       " [\"Quel est l'équivalent américain de l'ESA (European Space Agency) ?\",\n",
       "  [['NASA', True, ''],\n",
       "   ['NSA', False, 'La NSA est la National Security Agency'],\n",
       "   ['FBI', False, '']]],\n",
       " [\"L'entomologie est la science qui étudie:\",\n",
       "  [['Les insectes', True, ''],\n",
       "   ['Le comportement des être humains', False, ''],\n",
       "   [\"L'origine et l'histoire des termes techniques et scientifiques\",\n",
       "    False,\n",
       "    ''],\n",
       "   ['La formation des roches', False, '']]],\n",
       " [\"L'Erythrée est un pays situé sur le continent:\",\n",
       "  [['Africain', True, ''],\n",
       "   ['Asiatique', False, ''],\n",
       "   ['Européen', False, ''],\n",
       "   ['Australien', False, '']]],\n",
       " ['Parmi les disciplines suivantes, lesquelles sont récompensées par des Prix Nobels ?',\n",
       "  [['Physique et Chimie', True, ''],\n",
       "   ['Physiologie et Médecine', True, ''],\n",
       "   ['Littérature, Paix et Economie', True, ''],\n",
       "   ['Mathématique', False, ''],\n",
       "   ['Toutes les réponses précédentes', False, '']]],\n",
       " ['Galilée est un savant Italien qui a:',\n",
       "  [['Développé le téléscope', True, ''],\n",
       "   ['Découvert quatre satellites de Jupiter', True, ''],\n",
       "   [\"Découvert que le mouvement d'un pendule produit une mesure de temps régulière\",\n",
       "    True,\n",
       "    ''],\n",
       "   ['Toutes les réponses précédentes', True, '']]],\n",
       " [\"L'exposition aux rayons du soleil est bon pour la santé parce que:\",\n",
       "  [['Les rayons ultraviolets activent la transformation de cholestérol en vitamine D',\n",
       "    True,\n",
       "    ''],\n",
       "   ['Les cellules pigmentaires de la peau sont stimulées et font bronzer la peau',\n",
       "    False,\n",
       "    ''],\n",
       "   ['La lumière infrarouge tue les bactéries à la surface de la peau',\n",
       "    False,\n",
       "    '']]]]"
      ]
     },
     "execution_count": 298,
     "metadata": {},
     "output_type": "execute_result"
    }
   ],
   "execution_count": 298
  },
  {
   "metadata": {
    "ExecuteTime": {
     "end_time": "2025-10-11T14:27:02.206013Z",
     "start_time": "2025-10-11T14:27:02.203755Z"
    }
   },
   "cell_type": "code",
   "source": [
    "#Pseudo random number generator\n",
    "import random as rd\n",
    "def PRNG(intervall):\n",
    "    intervall_list=[x for x in range(0,intervall)]\n",
    "    number=rd.choice(intervall_list)\n",
    "    return number\n"
   ],
   "id": "6af8714e4c93a337",
   "outputs": [],
   "execution_count": 299
  },
  {
   "metadata": {
    "ExecuteTime": {
     "end_time": "2025-10-11T14:27:05.574887Z",
     "start_time": "2025-10-11T14:27:02.218554Z"
    }
   },
   "cell_type": "code",
   "source": [
    "def QCM(questions: list):\n",
    "    for i in range(len(questions)):\n",
    "        question_num = PRNG(len(questions))\n",
    "        question = questions[question_num]\n",
    "        answer_list={}\n",
    "        for x in question[1:]:\n",
    "\n",
    "            print(f\"Q:{question[0]}]\")\n",
    "            for y in range(len(x)):\n",
    "                answer_list[y]=question[1][y]\n",
    "                print(f\"{y} : {question[1][y][0]}\")\n",
    "            print(answer_list)\n",
    "            answer = input(f\"answer : \")\n",
    "            answer= answer_list[int(answer)]\n",
    "\n",
    "\n",
    "\n",
    "            questions.remove(questions[question_num])\n",
    "\n",
    "QCM(full_question)\n",
    "\n",
    "\n",
    "\n",
    "\n",
    "\n",
    "\n",
    "\n",
    "\n",
    "\n"
   ],
   "id": "3472bbc5f3c46479",
   "outputs": [
    {
     "name": "stdout",
     "output_type": "stream",
     "text": [
      "Q:Galilée est un savant Italien qui a:]\n",
      "0 : Développé le téléscope\n",
      "1 : Découvert quatre satellites de Jupiter\n",
      "2 : Découvert que le mouvement d'un pendule produit une mesure de temps régulière\n",
      "3 : Toutes les réponses précédentes\n",
      "{0: ['Développé le téléscope', True, ''], 1: ['Découvert quatre satellites de Jupiter', True, ''], 2: [\"Découvert que le mouvement d'un pendule produit une mesure de temps régulière\", True, ''], 3: ['Toutes les réponses précédentes', True, '']}\n"
     ]
    },
    {
     "ename": "KeyboardInterrupt",
     "evalue": "Interrupted by user",
     "output_type": "error",
     "traceback": [
      "\u001B[31m---------------------------------------------------------------------------\u001B[39m",
      "\u001B[31mKeyboardInterrupt\u001B[39m                         Traceback (most recent call last)",
      "\u001B[36mCell\u001B[39m\u001B[36m \u001B[39m\u001B[32mIn[300]\u001B[39m\u001B[32m, line 20\u001B[39m\n\u001B[32m     14\u001B[39m             answer= answer_list[\u001B[38;5;28mint\u001B[39m(answer)]\n\u001B[32m     18\u001B[39m             questions.remove(questions[question_num])\n\u001B[32m---> \u001B[39m\u001B[32m20\u001B[39m QCM(full_question)\n",
      "\u001B[36mCell\u001B[39m\u001B[36m \u001B[39m\u001B[32mIn[300]\u001B[39m\u001B[32m, line 13\u001B[39m, in \u001B[36mQCM\u001B[39m\u001B[34m(questions)\u001B[39m\n\u001B[32m     11\u001B[39m     \u001B[38;5;28mprint\u001B[39m(\u001B[33mf\u001B[39m\u001B[33m\"\u001B[39m\u001B[38;5;132;01m{\u001B[39;00my\u001B[38;5;132;01m}\u001B[39;00m\u001B[33m : \u001B[39m\u001B[38;5;132;01m{\u001B[39;00mquestion[\u001B[32m1\u001B[39m][y][\u001B[32m0\u001B[39m]\u001B[38;5;132;01m}\u001B[39;00m\u001B[33m\"\u001B[39m)\n\u001B[32m     12\u001B[39m \u001B[38;5;28mprint\u001B[39m(answer_list)\n\u001B[32m---> \u001B[39m\u001B[32m13\u001B[39m answer = \u001B[38;5;28minput\u001B[39m(\u001B[33mf\u001B[39m\u001B[33m\"\u001B[39m\u001B[33manswer : \u001B[39m\u001B[33m\"\u001B[39m)\n\u001B[32m     14\u001B[39m answer= answer_list[\u001B[38;5;28mint\u001B[39m(answer)]\n\u001B[32m     18\u001B[39m questions.remove(questions[question_num])\n",
      "\u001B[36mFile \u001B[39m\u001B[32m/opt/miniconda3/envs/CB_AI/lib/python3.12/site-packages/ipykernel/kernelbase.py:1282\u001B[39m, in \u001B[36mKernel.raw_input\u001B[39m\u001B[34m(self, prompt)\u001B[39m\n\u001B[32m   1280\u001B[39m     msg = \u001B[33m\"\u001B[39m\u001B[33mraw_input was called, but this frontend does not support input requests.\u001B[39m\u001B[33m\"\u001B[39m\n\u001B[32m   1281\u001B[39m     \u001B[38;5;28;01mraise\u001B[39;00m StdinNotImplementedError(msg)\n\u001B[32m-> \u001B[39m\u001B[32m1282\u001B[39m \u001B[38;5;28;01mreturn\u001B[39;00m \u001B[38;5;28mself\u001B[39m._input_request(\n\u001B[32m   1283\u001B[39m     \u001B[38;5;28mstr\u001B[39m(prompt),\n\u001B[32m   1284\u001B[39m     \u001B[38;5;28mself\u001B[39m._parent_ident[\u001B[33m\"\u001B[39m\u001B[33mshell\u001B[39m\u001B[33m\"\u001B[39m],\n\u001B[32m   1285\u001B[39m     \u001B[38;5;28mself\u001B[39m.get_parent(\u001B[33m\"\u001B[39m\u001B[33mshell\u001B[39m\u001B[33m\"\u001B[39m),\n\u001B[32m   1286\u001B[39m     password=\u001B[38;5;28;01mFalse\u001B[39;00m,\n\u001B[32m   1287\u001B[39m )\n",
      "\u001B[36mFile \u001B[39m\u001B[32m/opt/miniconda3/envs/CB_AI/lib/python3.12/site-packages/ipykernel/kernelbase.py:1325\u001B[39m, in \u001B[36mKernel._input_request\u001B[39m\u001B[34m(self, prompt, ident, parent, password)\u001B[39m\n\u001B[32m   1322\u001B[39m \u001B[38;5;28;01mexcept\u001B[39;00m \u001B[38;5;167;01mKeyboardInterrupt\u001B[39;00m:\n\u001B[32m   1323\u001B[39m     \u001B[38;5;66;03m# re-raise KeyboardInterrupt, to truncate traceback\u001B[39;00m\n\u001B[32m   1324\u001B[39m     msg = \u001B[33m\"\u001B[39m\u001B[33mInterrupted by user\u001B[39m\u001B[33m\"\u001B[39m\n\u001B[32m-> \u001B[39m\u001B[32m1325\u001B[39m     \u001B[38;5;28;01mraise\u001B[39;00m \u001B[38;5;167;01mKeyboardInterrupt\u001B[39;00m(msg) \u001B[38;5;28;01mfrom\u001B[39;00m\u001B[38;5;250m \u001B[39m\u001B[38;5;28;01mNone\u001B[39;00m\n\u001B[32m   1326\u001B[39m \u001B[38;5;28;01mexcept\u001B[39;00m \u001B[38;5;167;01mException\u001B[39;00m:\n\u001B[32m   1327\u001B[39m     \u001B[38;5;28mself\u001B[39m.log.warning(\u001B[33m\"\u001B[39m\u001B[33mInvalid Message:\u001B[39m\u001B[33m\"\u001B[39m, exc_info=\u001B[38;5;28;01mTrue\u001B[39;00m)\n",
      "\u001B[31mKeyboardInterrupt\u001B[39m: Interrupted by user"
     ]
    }
   ],
   "execution_count": 300
  }
 ],
 "metadata": {
  "kernelspec": {
   "display_name": "Python 3",
   "language": "python",
   "name": "python3"
  },
  "language_info": {
   "codemirror_mode": {
    "name": "ipython",
    "version": 2
   },
   "file_extension": ".py",
   "mimetype": "text/x-python",
   "name": "python",
   "nbconvert_exporter": "python",
   "pygments_lexer": "ipython2",
   "version": "2.7.6"
  }
 },
 "nbformat": 4,
 "nbformat_minor": 5
}
